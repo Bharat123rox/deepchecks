{
 "cells": [
  {
   "cell_type": "markdown",
   "id": "104dbd2d",
   "metadata": {},
   "source": [
    "# Image Dataset Drift \n",
    "\n",
    "\n",
    "This notebooks provides an overview for using and understanding the image dataset drift check, used to detect drift in simple image properties between train and test datasets.\n",
    "\n",
    "**Structure:**\n",
    "\n",
    "- [What is a dataset drift?](#what_is_dataset_drift)\n",
    "- [Loading the data](#load_data_model)\n",
    "- [Run the check](#run_check)\n",
    "- [Define a condition](#define_condition)\n"
   ]
  },
  {
   "cell_type": "markdown",
   "id": "1de0a7d8",
   "metadata": {},
   "source": [
    "<a id='what_is_dataset_drift'></a>\n",
    "## What is a dataset drift?\n",
    "\n",
    "Data drift is simply a change in the distribution of data over time. It is also one of the top reasons of a machine learning model performance degrades over time.\n",
    "\n",
    "Specifically, a whole dataset drift, or a multivariate dataset drift, occurs when there is a change in the relation between input features.\n",
    "\n",
    "Causes of data drift include:\n",
    "\n",
    "- Natural drift in the data, such as lighting (brightness) changes between summer and winter.\n",
    "- Upstream process changes, such as a camera being replaced that has a different lens, which makes images sharper.\n",
    "- Data quality issues, such as a malfunctioning camera that always returns a black image.\n",
    "- Data pipeline errors, such as a change in image augmentations done in preprocessing.\n",
    "\n",
    "In the context of machine learning, drift between the training set and the test set which is not due to augmentation will likely make the model prone to error. In other words, if the model was trained on data that is different from the current test data, it will probably make more mistakes predicting the target variable."
   ]
  },
  {
   "cell_type": "markdown",
   "id": "3493e545",
   "metadata": {},
   "source": [
    "### How deepchecks detects dataset drift\n",
    "\n",
    "There are many methods to detect feature drift. Some of them are statistical methods that aim to measure difference between distribution of 2 given sets. This methods are more suited to univariate distributions and are primarily used to detect drift between 2 subsets of a single feature.\n",
    "\n",
    "Measuring a multivariate data drift is a bit more challenging. In the image dataset drift check, the multivariate drift is measured by training a classifier that detects which samples come from a known distribution and defines the drift by the accuracy of this classifier. \n",
    "\n",
    "Practically, the check concatanates the train and the test sets, and assigns label 0 to samples that come from the training set, and 1 to those who are from the test set. Then, we train a binary classifer of type [Histogram-based Gradient Boosting Classification Tree](https://scikit-learn.org/stable/modules/generated/sklearn.ensemble.HistGradientBoostingClassifier.html), and measure the drift score from the AUC score of this classifier.\n",
    "\n",
    "As the classifier is a tree model, that cannot run on the images themselves, the check calculates properties for each image (such as brightness, aspect ratio etc.) and uses them as input features to the classifier."
   ]
  },
  {
   "cell_type": "markdown",
   "id": "ca784ea9-acc7-42c6-9715-2693c5e4fd8a",
   "metadata": {},
   "source": [
    "### Imports"
   ]
  },
  {
   "cell_type": "code",
   "execution_count": 1,
   "id": "fa18287a-5bbb-4e23-a99b-fc0650c89f6d",
   "metadata": {},
   "outputs": [],
   "source": [
    "import numpy as np\n",
    "\n",
    "from deepchecks.vision.dataset import VisionData\n",
    "from deepchecks.vision.checks import ImageDatasetDrift"
   ]
  },
  {
   "cell_type": "markdown",
   "id": "c5eb6f75-12f0-4b09-b530-f1f8ebd7c782",
   "metadata": {},
   "source": [
    "<a id='load_data_model'></a>\n",
    "## Loading the data"
   ]
  },
  {
   "cell_type": "code",
   "execution_count": 2,
   "id": "93feb429-f28c-4408-8922-dfa27d85164e",
   "metadata": {},
   "outputs": [],
   "source": [
    "from deepchecks.vision.datasets.detection.coco import load_dataset\n",
    "\n",
    "train_ds = load_dataset(train=True, object_type='VisionData')\n",
    "test_ds = load_dataset(train=False, object_type='VisionData')"
   ]
  },
  {
   "cell_type": "markdown",
   "id": "37a58b30-1fdf-4f86-b488-c08bc0565b02",
   "metadata": {},
   "source": [
    "<a id='run_check'></a>\n",
    "## Run the check"
   ]
  },
  {
   "cell_type": "markdown",
   "id": "6855ff77-d647-4902-8fa5-c0f3dd46db14",
   "metadata": {},
   "source": [
    "### without drift"
   ]
  },
  {
   "cell_type": "code",
   "execution_count": 3,
   "id": "35847e81-6d22-406e-b522-69aaa7df03ae",
   "metadata": {},
   "outputs": [
    {
     "data": {
      "text/html": [
       "<h4>Image Dataset Drift</h4><p>    Calculate drift between the entire train and test datasets (based on image properties) using a trained model. <a href=\"https://docs.deepchecks.com/en/0.5.0.dev2/examples/vision/checks/distribution/image_dataset_drift.html?utm_source=display_output&utm_medium=referral&utm_campaign=check_link\" target=\"_blank\">Read More...</a></p><h5>Additional Outputs</h5><p><b>&#x2713;</b> Nothing found</p>"
      ]
     },
     "metadata": {},
     "output_type": "display_data"
    }
   ],
   "source": [
    "check = ImageDatasetDrift()\n",
    "check.run(train_dataset=train_ds, test_dataset=test_ds)"
   ]
  },
  {
   "cell_type": "markdown",
   "id": "e68d7b6f-f829-42ae-8c0a-ce5ff44d8bad",
   "metadata": {},
   "source": [
    "### Insert drift\n",
    "Now, we will define a custom data object that will insert a drift to the training set."
   ]
  },
  {
   "cell_type": "code",
   "execution_count": 9,
   "id": "953c780f",
   "metadata": {},
   "outputs": [],
   "source": [
    "from deepchecks.vision.datasets.detection.coco import COCOData\n",
    "\n",
    "def add_brightness(img):\n",
    "    reverse = 255 - img\n",
    "    addition_of_brightness = (reverse * 0.07).astype(int)\n",
    "    return img + addition_of_brightness\n",
    "\n",
    "\n",
    "class DriftedCOCO(COCOData):\n",
    "    \n",
    "    def batch_to_images(self, batch):\n",
    "        return [add_brightness(np.array(img)) for img in batch[0]]\n",
    "    \n",
    "    "
   ]
  },
  {
   "cell_type": "code",
   "execution_count": 10,
   "id": "5ad211fa-9a79-4d15-a412-43ec0c4e7d18",
   "metadata": {},
   "outputs": [],
   "source": [
    "train_dataloader = load_dataset(train=True, object_type='DataLoader')\n",
    "test_dataloader = load_dataset(train=False, object_type='DataLoader')\n",
    "\n",
    "drifted_train_ds = DriftedCOCO(train_dataloader)\n",
    "test_ds = COCOData(test_dataloader)"
   ]
  },
  {
   "cell_type": "markdown",
   "id": "c00e5d19-ee69-4736-8d18-412ad915298c",
   "metadata": {},
   "source": [
    "### Run the check again"
   ]
  },
  {
   "cell_type": "code",
   "execution_count": 14,
   "id": "3251e7a9-35aa-46fd-b846-a5ac27b18148",
   "metadata": {},
   "outputs": [
    {
     "data": {
      "text/html": [
       "<h4>Image Dataset Drift</h4><p>    Calculate drift between the entire train and test datasets (based on image properties) using a trained model. <a href=\"https://docs.deepchecks.com/en/0.5.0.dev2/examples/vision/checks/distribution/image_dataset_drift.html?utm_source=display_output&utm_medium=referral&utm_campaign=check_link\" target=\"_blank\">Read More...</a></p><h5>Additional Outputs</h5><div>\n",
       "        <span>\n",
       "        The shown features are the image properties (brightness, aspect ratio, etc.) that are most important for the\n",
       "        domain classifier - the domain_classifier trained to distinguish between the train and test datasets.<br>\n",
       "        </span>\n",
       "        </div><div>\n",
       "    <span>\n",
       "    The percents of explained dataset difference are the importance values for the feature calculated\n",
       "    using `permutation_importance`.\n",
       "    </span><br><br>\n",
       "    </div>"
      ]
     },
     "metadata": {},
     "output_type": "display_data"
    },
    {
     "data": {
      "application/vnd.plotly.v1+json": {
       "config": {
        "plotlyServerURL": "https://plot.ly"
       },
       "data": [
        {
         "base": 0,
         "marker": {
          "color": "#01B8AA"
         },
         "offsetgroup": "0",
         "orientation": "h",
         "showlegend": false,
         "type": "bar",
         "x": [
          0.1
         ],
         "y": [
          "Drift Score"
         ]
        },
        {
         "base": 0.1,
         "marker": {
          "color": "#F2C80F"
         },
         "offsetgroup": "0",
         "orientation": "h",
         "showlegend": false,
         "type": "bar",
         "x": [
          0.1
         ],
         "y": [
          "Drift Score"
         ]
        },
        {
         "base": 0.2,
         "marker": {
          "color": "#FE9666"
         },
         "offsetgroup": "0",
         "orientation": "h",
         "showlegend": false,
         "type": "bar",
         "x": [
          0.02105263157894738
         ],
         "y": [
          "Drift Score"
         ]
        }
       ],
       "layout": {
        "height": 200,
        "template": {
         "data": {
          "bar": [
           {
            "error_x": {
             "color": "#2a3f5f"
            },
            "error_y": {
             "color": "#2a3f5f"
            },
            "marker": {
             "line": {
              "color": "#E5ECF6",
              "width": 0.5
             },
             "pattern": {
              "fillmode": "overlay",
              "size": 10,
              "solidity": 0.2
             }
            },
            "type": "bar"
           }
          ],
          "barpolar": [
           {
            "marker": {
             "line": {
              "color": "#E5ECF6",
              "width": 0.5
             },
             "pattern": {
              "fillmode": "overlay",
              "size": 10,
              "solidity": 0.2
             }
            },
            "type": "barpolar"
           }
          ],
          "carpet": [
           {
            "aaxis": {
             "endlinecolor": "#2a3f5f",
             "gridcolor": "white",
             "linecolor": "white",
             "minorgridcolor": "white",
             "startlinecolor": "#2a3f5f"
            },
            "baxis": {
             "endlinecolor": "#2a3f5f",
             "gridcolor": "white",
             "linecolor": "white",
             "minorgridcolor": "white",
             "startlinecolor": "#2a3f5f"
            },
            "type": "carpet"
           }
          ],
          "choropleth": [
           {
            "colorbar": {
             "outlinewidth": 0,
             "ticks": ""
            },
            "type": "choropleth"
           }
          ],
          "contour": [
           {
            "colorbar": {
             "outlinewidth": 0,
             "ticks": ""
            },
            "colorscale": [
             [
              0,
              "#0d0887"
             ],
             [
              0.1111111111111111,
              "#46039f"
             ],
             [
              0.2222222222222222,
              "#7201a8"
             ],
             [
              0.3333333333333333,
              "#9c179e"
             ],
             [
              0.4444444444444444,
              "#bd3786"
             ],
             [
              0.5555555555555556,
              "#d8576b"
             ],
             [
              0.6666666666666666,
              "#ed7953"
             ],
             [
              0.7777777777777778,
              "#fb9f3a"
             ],
             [
              0.8888888888888888,
              "#fdca26"
             ],
             [
              1,
              "#f0f921"
             ]
            ],
            "type": "contour"
           }
          ],
          "contourcarpet": [
           {
            "colorbar": {
             "outlinewidth": 0,
             "ticks": ""
            },
            "type": "contourcarpet"
           }
          ],
          "heatmap": [
           {
            "colorbar": {
             "outlinewidth": 0,
             "ticks": ""
            },
            "colorscale": [
             [
              0,
              "#0d0887"
             ],
             [
              0.1111111111111111,
              "#46039f"
             ],
             [
              0.2222222222222222,
              "#7201a8"
             ],
             [
              0.3333333333333333,
              "#9c179e"
             ],
             [
              0.4444444444444444,
              "#bd3786"
             ],
             [
              0.5555555555555556,
              "#d8576b"
             ],
             [
              0.6666666666666666,
              "#ed7953"
             ],
             [
              0.7777777777777778,
              "#fb9f3a"
             ],
             [
              0.8888888888888888,
              "#fdca26"
             ],
             [
              1,
              "#f0f921"
             ]
            ],
            "type": "heatmap"
           }
          ],
          "heatmapgl": [
           {
            "colorbar": {
             "outlinewidth": 0,
             "ticks": ""
            },
            "colorscale": [
             [
              0,
              "#0d0887"
             ],
             [
              0.1111111111111111,
              "#46039f"
             ],
             [
              0.2222222222222222,
              "#7201a8"
             ],
             [
              0.3333333333333333,
              "#9c179e"
             ],
             [
              0.4444444444444444,
              "#bd3786"
             ],
             [
              0.5555555555555556,
              "#d8576b"
             ],
             [
              0.6666666666666666,
              "#ed7953"
             ],
             [
              0.7777777777777778,
              "#fb9f3a"
             ],
             [
              0.8888888888888888,
              "#fdca26"
             ],
             [
              1,
              "#f0f921"
             ]
            ],
            "type": "heatmapgl"
           }
          ],
          "histogram": [
           {
            "marker": {
             "pattern": {
              "fillmode": "overlay",
              "size": 10,
              "solidity": 0.2
             }
            },
            "type": "histogram"
           }
          ],
          "histogram2d": [
           {
            "colorbar": {
             "outlinewidth": 0,
             "ticks": ""
            },
            "colorscale": [
             [
              0,
              "#0d0887"
             ],
             [
              0.1111111111111111,
              "#46039f"
             ],
             [
              0.2222222222222222,
              "#7201a8"
             ],
             [
              0.3333333333333333,
              "#9c179e"
             ],
             [
              0.4444444444444444,
              "#bd3786"
             ],
             [
              0.5555555555555556,
              "#d8576b"
             ],
             [
              0.6666666666666666,
              "#ed7953"
             ],
             [
              0.7777777777777778,
              "#fb9f3a"
             ],
             [
              0.8888888888888888,
              "#fdca26"
             ],
             [
              1,
              "#f0f921"
             ]
            ],
            "type": "histogram2d"
           }
          ],
          "histogram2dcontour": [
           {
            "colorbar": {
             "outlinewidth": 0,
             "ticks": ""
            },
            "colorscale": [
             [
              0,
              "#0d0887"
             ],
             [
              0.1111111111111111,
              "#46039f"
             ],
             [
              0.2222222222222222,
              "#7201a8"
             ],
             [
              0.3333333333333333,
              "#9c179e"
             ],
             [
              0.4444444444444444,
              "#bd3786"
             ],
             [
              0.5555555555555556,
              "#d8576b"
             ],
             [
              0.6666666666666666,
              "#ed7953"
             ],
             [
              0.7777777777777778,
              "#fb9f3a"
             ],
             [
              0.8888888888888888,
              "#fdca26"
             ],
             [
              1,
              "#f0f921"
             ]
            ],
            "type": "histogram2dcontour"
           }
          ],
          "mesh3d": [
           {
            "colorbar": {
             "outlinewidth": 0,
             "ticks": ""
            },
            "type": "mesh3d"
           }
          ],
          "parcoords": [
           {
            "line": {
             "colorbar": {
              "outlinewidth": 0,
              "ticks": ""
             }
            },
            "type": "parcoords"
           }
          ],
          "pie": [
           {
            "automargin": true,
            "type": "pie"
           }
          ],
          "scatter": [
           {
            "marker": {
             "colorbar": {
              "outlinewidth": 0,
              "ticks": ""
             }
            },
            "type": "scatter"
           }
          ],
          "scatter3d": [
           {
            "line": {
             "colorbar": {
              "outlinewidth": 0,
              "ticks": ""
             }
            },
            "marker": {
             "colorbar": {
              "outlinewidth": 0,
              "ticks": ""
             }
            },
            "type": "scatter3d"
           }
          ],
          "scattercarpet": [
           {
            "marker": {
             "colorbar": {
              "outlinewidth": 0,
              "ticks": ""
             }
            },
            "type": "scattercarpet"
           }
          ],
          "scattergeo": [
           {
            "marker": {
             "colorbar": {
              "outlinewidth": 0,
              "ticks": ""
             }
            },
            "type": "scattergeo"
           }
          ],
          "scattergl": [
           {
            "marker": {
             "colorbar": {
              "outlinewidth": 0,
              "ticks": ""
             }
            },
            "type": "scattergl"
           }
          ],
          "scattermapbox": [
           {
            "marker": {
             "colorbar": {
              "outlinewidth": 0,
              "ticks": ""
             }
            },
            "type": "scattermapbox"
           }
          ],
          "scatterpolar": [
           {
            "marker": {
             "colorbar": {
              "outlinewidth": 0,
              "ticks": ""
             }
            },
            "type": "scatterpolar"
           }
          ],
          "scatterpolargl": [
           {
            "marker": {
             "colorbar": {
              "outlinewidth": 0,
              "ticks": ""
             }
            },
            "type": "scatterpolargl"
           }
          ],
          "scatterternary": [
           {
            "marker": {
             "colorbar": {
              "outlinewidth": 0,
              "ticks": ""
             }
            },
            "type": "scatterternary"
           }
          ],
          "surface": [
           {
            "colorbar": {
             "outlinewidth": 0,
             "ticks": ""
            },
            "colorscale": [
             [
              0,
              "#0d0887"
             ],
             [
              0.1111111111111111,
              "#46039f"
             ],
             [
              0.2222222222222222,
              "#7201a8"
             ],
             [
              0.3333333333333333,
              "#9c179e"
             ],
             [
              0.4444444444444444,
              "#bd3786"
             ],
             [
              0.5555555555555556,
              "#d8576b"
             ],
             [
              0.6666666666666666,
              "#ed7953"
             ],
             [
              0.7777777777777778,
              "#fb9f3a"
             ],
             [
              0.8888888888888888,
              "#fdca26"
             ],
             [
              1,
              "#f0f921"
             ]
            ],
            "type": "surface"
           }
          ],
          "table": [
           {
            "cells": {
             "fill": {
              "color": "#EBF0F8"
             },
             "line": {
              "color": "white"
             }
            },
            "header": {
             "fill": {
              "color": "#C8D4E3"
             },
             "line": {
              "color": "white"
             }
            },
            "type": "table"
           }
          ]
         },
         "layout": {
          "annotationdefaults": {
           "arrowcolor": "#2a3f5f",
           "arrowhead": 0,
           "arrowwidth": 1
          },
          "autotypenumbers": "strict",
          "coloraxis": {
           "colorbar": {
            "outlinewidth": 0,
            "ticks": ""
           }
          },
          "colorscale": {
           "diverging": [
            [
             0,
             "#8e0152"
            ],
            [
             0.1,
             "#c51b7d"
            ],
            [
             0.2,
             "#de77ae"
            ],
            [
             0.3,
             "#f1b6da"
            ],
            [
             0.4,
             "#fde0ef"
            ],
            [
             0.5,
             "#f7f7f7"
            ],
            [
             0.6,
             "#e6f5d0"
            ],
            [
             0.7,
             "#b8e186"
            ],
            [
             0.8,
             "#7fbc41"
            ],
            [
             0.9,
             "#4d9221"
            ],
            [
             1,
             "#276419"
            ]
           ],
           "sequential": [
            [
             0,
             "#0d0887"
            ],
            [
             0.1111111111111111,
             "#46039f"
            ],
            [
             0.2222222222222222,
             "#7201a8"
            ],
            [
             0.3333333333333333,
             "#9c179e"
            ],
            [
             0.4444444444444444,
             "#bd3786"
            ],
            [
             0.5555555555555556,
             "#d8576b"
            ],
            [
             0.6666666666666666,
             "#ed7953"
            ],
            [
             0.7777777777777778,
             "#fb9f3a"
            ],
            [
             0.8888888888888888,
             "#fdca26"
            ],
            [
             1,
             "#f0f921"
            ]
           ],
           "sequentialminus": [
            [
             0,
             "#0d0887"
            ],
            [
             0.1111111111111111,
             "#46039f"
            ],
            [
             0.2222222222222222,
             "#7201a8"
            ],
            [
             0.3333333333333333,
             "#9c179e"
            ],
            [
             0.4444444444444444,
             "#bd3786"
            ],
            [
             0.5555555555555556,
             "#d8576b"
            ],
            [
             0.6666666666666666,
             "#ed7953"
            ],
            [
             0.7777777777777778,
             "#fb9f3a"
            ],
            [
             0.8888888888888888,
             "#fdca26"
            ],
            [
             1,
             "#f0f921"
            ]
           ]
          },
          "colorway": [
           "#636efa",
           "#EF553B",
           "#00cc96",
           "#ab63fa",
           "#FFA15A",
           "#19d3f3",
           "#FF6692",
           "#B6E880",
           "#FF97FF",
           "#FECB52"
          ],
          "font": {
           "color": "#2a3f5f"
          },
          "geo": {
           "bgcolor": "white",
           "lakecolor": "white",
           "landcolor": "#E5ECF6",
           "showlakes": true,
           "showland": true,
           "subunitcolor": "white"
          },
          "hoverlabel": {
           "align": "left"
          },
          "hovermode": "closest",
          "mapbox": {
           "style": "light"
          },
          "paper_bgcolor": "white",
          "plot_bgcolor": "#E5ECF6",
          "polar": {
           "angularaxis": {
            "gridcolor": "white",
            "linecolor": "white",
            "ticks": ""
           },
           "bgcolor": "#E5ECF6",
           "radialaxis": {
            "gridcolor": "white",
            "linecolor": "white",
            "ticks": ""
           }
          },
          "scene": {
           "xaxis": {
            "backgroundcolor": "#E5ECF6",
            "gridcolor": "white",
            "gridwidth": 2,
            "linecolor": "white",
            "showbackground": true,
            "ticks": "",
            "zerolinecolor": "white"
           },
           "yaxis": {
            "backgroundcolor": "#E5ECF6",
            "gridcolor": "white",
            "gridwidth": 2,
            "linecolor": "white",
            "showbackground": true,
            "ticks": "",
            "zerolinecolor": "white"
           },
           "zaxis": {
            "backgroundcolor": "#E5ECF6",
            "gridcolor": "white",
            "gridwidth": 2,
            "linecolor": "white",
            "showbackground": true,
            "ticks": "",
            "zerolinecolor": "white"
           }
          },
          "shapedefaults": {
           "line": {
            "color": "#2a3f5f"
           }
          },
          "ternary": {
           "aaxis": {
            "gridcolor": "white",
            "linecolor": "white",
            "ticks": ""
           },
           "baxis": {
            "gridcolor": "white",
            "linecolor": "white",
            "ticks": ""
           },
           "bgcolor": "#E5ECF6",
           "caxis": {
            "gridcolor": "white",
            "linecolor": "white",
            "ticks": ""
           }
          },
          "title": {
           "x": 0.05
          },
          "xaxis": {
           "automargin": true,
           "gridcolor": "white",
           "linecolor": "white",
           "ticks": "",
           "title": {
            "standoff": 15
           },
           "zerolinecolor": "white",
           "zerolinewidth": 2
          },
          "yaxis": {
           "automargin": true,
           "gridcolor": "white",
           "linecolor": "white",
           "ticks": "",
           "title": {
            "standoff": 15
           },
           "zerolinecolor": "white",
           "zerolinewidth": 2
          }
         }
        },
        "title": {
         "text": "Drift Score - Whole Dataset Total"
        },
        "width": 700,
        "xaxis": {
         "dtick": 0.05,
         "fixedrange": true,
         "gridcolor": "black",
         "linecolor": "black",
         "range": [
          0,
          0.4
         ],
         "showgrid": false,
         "title": {
          "text": "Drift score"
         }
        },
        "yaxis": {
         "color": "black",
         "fixedrange": true,
         "showgrid": false,
         "showline": false,
         "showticklabels": false,
         "zeroline": false
        }
       }
      },
      "text/html": [
       "<div>                            <div id=\"f7d9252d-90d8-4ff5-8a34-011e2af6d793\" class=\"plotly-graph-div\" style=\"height:200px; width:700px;\"></div>            <script type=\"text/javascript\">                require([\"plotly\"], function(Plotly) {                    window.PLOTLYENV=window.PLOTLYENV || {};                                    if (document.getElementById(\"f7d9252d-90d8-4ff5-8a34-011e2af6d793\")) {                    Plotly.newPlot(                        \"f7d9252d-90d8-4ff5-8a34-011e2af6d793\",                        [{\"base\":0,\"marker\":{\"color\":\"#01B8AA\"},\"offsetgroup\":\"0\",\"orientation\":\"h\",\"showlegend\":false,\"x\":[0.1],\"y\":[\"Drift Score\"],\"type\":\"bar\"},{\"base\":0.1,\"marker\":{\"color\":\"#F2C80F\"},\"offsetgroup\":\"0\",\"orientation\":\"h\",\"showlegend\":false,\"x\":[0.1],\"y\":[\"Drift Score\"],\"type\":\"bar\"},{\"base\":0.2,\"marker\":{\"color\":\"#FE9666\"},\"offsetgroup\":\"0\",\"orientation\":\"h\",\"showlegend\":false,\"x\":[0.02105263157894738],\"y\":[\"Drift Score\"],\"type\":\"bar\"}],                        {\"height\":200,\"title\":{\"text\":\"Drift Score - Whole Dataset Total\"},\"width\":700,\"xaxis\":{\"dtick\":0.05,\"fixedrange\":true,\"gridcolor\":\"black\",\"linecolor\":\"black\",\"range\":[0,0.4],\"showgrid\":false,\"title\":{\"text\":\"Drift score\"}},\"yaxis\":{\"color\":\"black\",\"fixedrange\":true,\"showgrid\":false,\"showline\":false,\"showticklabels\":false,\"zeroline\":false},\"template\":{\"data\":{\"bar\":[{\"error_x\":{\"color\":\"#2a3f5f\"},\"error_y\":{\"color\":\"#2a3f5f\"},\"marker\":{\"line\":{\"color\":\"#E5ECF6\",\"width\":0.5},\"pattern\":{\"fillmode\":\"overlay\",\"size\":10,\"solidity\":0.2}},\"type\":\"bar\"}],\"barpolar\":[{\"marker\":{\"line\":{\"color\":\"#E5ECF6\",\"width\":0.5},\"pattern\":{\"fillmode\":\"overlay\",\"size\":10,\"solidity\":0.2}},\"type\":\"barpolar\"}],\"carpet\":[{\"aaxis\":{\"endlinecolor\":\"#2a3f5f\",\"gridcolor\":\"white\",\"linecolor\":\"white\",\"minorgridcolor\":\"white\",\"startlinecolor\":\"#2a3f5f\"},\"baxis\":{\"endlinecolor\":\"#2a3f5f\",\"gridcolor\":\"white\",\"linecolor\":\"white\",\"minorgridcolor\":\"white\",\"startlinecolor\":\"#2a3f5f\"},\"type\":\"carpet\"}],\"choropleth\":[{\"colorbar\":{\"outlinewidth\":0,\"ticks\":\"\"},\"type\":\"choropleth\"}],\"contour\":[{\"colorbar\":{\"outlinewidth\":0,\"ticks\":\"\"},\"colorscale\":[[0.0,\"#0d0887\"],[0.1111111111111111,\"#46039f\"],[0.2222222222222222,\"#7201a8\"],[0.3333333333333333,\"#9c179e\"],[0.4444444444444444,\"#bd3786\"],[0.5555555555555556,\"#d8576b\"],[0.6666666666666666,\"#ed7953\"],[0.7777777777777778,\"#fb9f3a\"],[0.8888888888888888,\"#fdca26\"],[1.0,\"#f0f921\"]],\"type\":\"contour\"}],\"contourcarpet\":[{\"colorbar\":{\"outlinewidth\":0,\"ticks\":\"\"},\"type\":\"contourcarpet\"}],\"heatmap\":[{\"colorbar\":{\"outlinewidth\":0,\"ticks\":\"\"},\"colorscale\":[[0.0,\"#0d0887\"],[0.1111111111111111,\"#46039f\"],[0.2222222222222222,\"#7201a8\"],[0.3333333333333333,\"#9c179e\"],[0.4444444444444444,\"#bd3786\"],[0.5555555555555556,\"#d8576b\"],[0.6666666666666666,\"#ed7953\"],[0.7777777777777778,\"#fb9f3a\"],[0.8888888888888888,\"#fdca26\"],[1.0,\"#f0f921\"]],\"type\":\"heatmap\"}],\"heatmapgl\":[{\"colorbar\":{\"outlinewidth\":0,\"ticks\":\"\"},\"colorscale\":[[0.0,\"#0d0887\"],[0.1111111111111111,\"#46039f\"],[0.2222222222222222,\"#7201a8\"],[0.3333333333333333,\"#9c179e\"],[0.4444444444444444,\"#bd3786\"],[0.5555555555555556,\"#d8576b\"],[0.6666666666666666,\"#ed7953\"],[0.7777777777777778,\"#fb9f3a\"],[0.8888888888888888,\"#fdca26\"],[1.0,\"#f0f921\"]],\"type\":\"heatmapgl\"}],\"histogram\":[{\"marker\":{\"pattern\":{\"fillmode\":\"overlay\",\"size\":10,\"solidity\":0.2}},\"type\":\"histogram\"}],\"histogram2d\":[{\"colorbar\":{\"outlinewidth\":0,\"ticks\":\"\"},\"colorscale\":[[0.0,\"#0d0887\"],[0.1111111111111111,\"#46039f\"],[0.2222222222222222,\"#7201a8\"],[0.3333333333333333,\"#9c179e\"],[0.4444444444444444,\"#bd3786\"],[0.5555555555555556,\"#d8576b\"],[0.6666666666666666,\"#ed7953\"],[0.7777777777777778,\"#fb9f3a\"],[0.8888888888888888,\"#fdca26\"],[1.0,\"#f0f921\"]],\"type\":\"histogram2d\"}],\"histogram2dcontour\":[{\"colorbar\":{\"outlinewidth\":0,\"ticks\":\"\"},\"colorscale\":[[0.0,\"#0d0887\"],[0.1111111111111111,\"#46039f\"],[0.2222222222222222,\"#7201a8\"],[0.3333333333333333,\"#9c179e\"],[0.4444444444444444,\"#bd3786\"],[0.5555555555555556,\"#d8576b\"],[0.6666666666666666,\"#ed7953\"],[0.7777777777777778,\"#fb9f3a\"],[0.8888888888888888,\"#fdca26\"],[1.0,\"#f0f921\"]],\"type\":\"histogram2dcontour\"}],\"mesh3d\":[{\"colorbar\":{\"outlinewidth\":0,\"ticks\":\"\"},\"type\":\"mesh3d\"}],\"parcoords\":[{\"line\":{\"colorbar\":{\"outlinewidth\":0,\"ticks\":\"\"}},\"type\":\"parcoords\"}],\"pie\":[{\"automargin\":true,\"type\":\"pie\"}],\"scatter\":[{\"marker\":{\"colorbar\":{\"outlinewidth\":0,\"ticks\":\"\"}},\"type\":\"scatter\"}],\"scatter3d\":[{\"line\":{\"colorbar\":{\"outlinewidth\":0,\"ticks\":\"\"}},\"marker\":{\"colorbar\":{\"outlinewidth\":0,\"ticks\":\"\"}},\"type\":\"scatter3d\"}],\"scattercarpet\":[{\"marker\":{\"colorbar\":{\"outlinewidth\":0,\"ticks\":\"\"}},\"type\":\"scattercarpet\"}],\"scattergeo\":[{\"marker\":{\"colorbar\":{\"outlinewidth\":0,\"ticks\":\"\"}},\"type\":\"scattergeo\"}],\"scattergl\":[{\"marker\":{\"colorbar\":{\"outlinewidth\":0,\"ticks\":\"\"}},\"type\":\"scattergl\"}],\"scattermapbox\":[{\"marker\":{\"colorbar\":{\"outlinewidth\":0,\"ticks\":\"\"}},\"type\":\"scattermapbox\"}],\"scatterpolar\":[{\"marker\":{\"colorbar\":{\"outlinewidth\":0,\"ticks\":\"\"}},\"type\":\"scatterpolar\"}],\"scatterpolargl\":[{\"marker\":{\"colorbar\":{\"outlinewidth\":0,\"ticks\":\"\"}},\"type\":\"scatterpolargl\"}],\"scatterternary\":[{\"marker\":{\"colorbar\":{\"outlinewidth\":0,\"ticks\":\"\"}},\"type\":\"scatterternary\"}],\"surface\":[{\"colorbar\":{\"outlinewidth\":0,\"ticks\":\"\"},\"colorscale\":[[0.0,\"#0d0887\"],[0.1111111111111111,\"#46039f\"],[0.2222222222222222,\"#7201a8\"],[0.3333333333333333,\"#9c179e\"],[0.4444444444444444,\"#bd3786\"],[0.5555555555555556,\"#d8576b\"],[0.6666666666666666,\"#ed7953\"],[0.7777777777777778,\"#fb9f3a\"],[0.8888888888888888,\"#fdca26\"],[1.0,\"#f0f921\"]],\"type\":\"surface\"}],\"table\":[{\"cells\":{\"fill\":{\"color\":\"#EBF0F8\"},\"line\":{\"color\":\"white\"}},\"header\":{\"fill\":{\"color\":\"#C8D4E3\"},\"line\":{\"color\":\"white\"}},\"type\":\"table\"}]},\"layout\":{\"annotationdefaults\":{\"arrowcolor\":\"#2a3f5f\",\"arrowhead\":0,\"arrowwidth\":1},\"autotypenumbers\":\"strict\",\"coloraxis\":{\"colorbar\":{\"outlinewidth\":0,\"ticks\":\"\"}},\"colorscale\":{\"diverging\":[[0,\"#8e0152\"],[0.1,\"#c51b7d\"],[0.2,\"#de77ae\"],[0.3,\"#f1b6da\"],[0.4,\"#fde0ef\"],[0.5,\"#f7f7f7\"],[0.6,\"#e6f5d0\"],[0.7,\"#b8e186\"],[0.8,\"#7fbc41\"],[0.9,\"#4d9221\"],[1,\"#276419\"]],\"sequential\":[[0.0,\"#0d0887\"],[0.1111111111111111,\"#46039f\"],[0.2222222222222222,\"#7201a8\"],[0.3333333333333333,\"#9c179e\"],[0.4444444444444444,\"#bd3786\"],[0.5555555555555556,\"#d8576b\"],[0.6666666666666666,\"#ed7953\"],[0.7777777777777778,\"#fb9f3a\"],[0.8888888888888888,\"#fdca26\"],[1.0,\"#f0f921\"]],\"sequentialminus\":[[0.0,\"#0d0887\"],[0.1111111111111111,\"#46039f\"],[0.2222222222222222,\"#7201a8\"],[0.3333333333333333,\"#9c179e\"],[0.4444444444444444,\"#bd3786\"],[0.5555555555555556,\"#d8576b\"],[0.6666666666666666,\"#ed7953\"],[0.7777777777777778,\"#fb9f3a\"],[0.8888888888888888,\"#fdca26\"],[1.0,\"#f0f921\"]]},\"colorway\":[\"#636efa\",\"#EF553B\",\"#00cc96\",\"#ab63fa\",\"#FFA15A\",\"#19d3f3\",\"#FF6692\",\"#B6E880\",\"#FF97FF\",\"#FECB52\"],\"font\":{\"color\":\"#2a3f5f\"},\"geo\":{\"bgcolor\":\"white\",\"lakecolor\":\"white\",\"landcolor\":\"#E5ECF6\",\"showlakes\":true,\"showland\":true,\"subunitcolor\":\"white\"},\"hoverlabel\":{\"align\":\"left\"},\"hovermode\":\"closest\",\"mapbox\":{\"style\":\"light\"},\"paper_bgcolor\":\"white\",\"plot_bgcolor\":\"#E5ECF6\",\"polar\":{\"angularaxis\":{\"gridcolor\":\"white\",\"linecolor\":\"white\",\"ticks\":\"\"},\"bgcolor\":\"#E5ECF6\",\"radialaxis\":{\"gridcolor\":\"white\",\"linecolor\":\"white\",\"ticks\":\"\"}},\"scene\":{\"xaxis\":{\"backgroundcolor\":\"#E5ECF6\",\"gridcolor\":\"white\",\"gridwidth\":2,\"linecolor\":\"white\",\"showbackground\":true,\"ticks\":\"\",\"zerolinecolor\":\"white\"},\"yaxis\":{\"backgroundcolor\":\"#E5ECF6\",\"gridcolor\":\"white\",\"gridwidth\":2,\"linecolor\":\"white\",\"showbackground\":true,\"ticks\":\"\",\"zerolinecolor\":\"white\"},\"zaxis\":{\"backgroundcolor\":\"#E5ECF6\",\"gridcolor\":\"white\",\"gridwidth\":2,\"linecolor\":\"white\",\"showbackground\":true,\"ticks\":\"\",\"zerolinecolor\":\"white\"}},\"shapedefaults\":{\"line\":{\"color\":\"#2a3f5f\"}},\"ternary\":{\"aaxis\":{\"gridcolor\":\"white\",\"linecolor\":\"white\",\"ticks\":\"\"},\"baxis\":{\"gridcolor\":\"white\",\"linecolor\":\"white\",\"ticks\":\"\"},\"bgcolor\":\"#E5ECF6\",\"caxis\":{\"gridcolor\":\"white\",\"linecolor\":\"white\",\"ticks\":\"\"}},\"title\":{\"x\":0.05},\"xaxis\":{\"automargin\":true,\"gridcolor\":\"white\",\"linecolor\":\"white\",\"ticks\":\"\",\"title\":{\"standoff\":15},\"zerolinecolor\":\"white\",\"zerolinewidth\":2},\"yaxis\":{\"automargin\":true,\"gridcolor\":\"white\",\"linecolor\":\"white\",\"ticks\":\"\",\"title\":{\"standoff\":15},\"zerolinecolor\":\"white\",\"zerolinewidth\":2}}}},                        {\"responsive\": true}                    ).then(function(){\n",
       "                            \n",
       "var gd = document.getElementById('f7d9252d-90d8-4ff5-8a34-011e2af6d793');\n",
       "var x = new MutationObserver(function (mutations, observer) {{\n",
       "        var display = window.getComputedStyle(gd).display;\n",
       "        if (!display || display === 'none') {{\n",
       "            console.log([gd, 'removed!']);\n",
       "            Plotly.purge(gd);\n",
       "            observer.disconnect();\n",
       "        }}\n",
       "}});\n",
       "\n",
       "// Listen for the removal of the full notebook cells\n",
       "var notebookContainer = gd.closest('#notebook-container');\n",
       "if (notebookContainer) {{\n",
       "    x.observe(notebookContainer, {childList: true});\n",
       "}}\n",
       "\n",
       "// Listen for the clearing of the current output cell\n",
       "var outputEl = gd.closest('.output');\n",
       "if (outputEl) {{\n",
       "    x.observe(outputEl, {childList: true});\n",
       "}}\n",
       "\n",
       "                        })                };                });            </script>        </div>"
      ]
     },
     "metadata": {},
     "output_type": "display_data"
    },
    {
     "data": {
      "text/html": [
       "<div><h3>Main features contributing to drift</h3></div><div>* showing only the top 3 columns, you can change it using n_top_columns param</div>"
      ]
     },
     "metadata": {},
     "output_type": "display_data"
    },
    {
     "data": {
      "application/vnd.plotly.v1+json": {
       "config": {
        "plotlyServerURL": "https://plot.ly"
       },
       "data": [
        {
         "fill": "tozeroy",
         "line": {
          "color": "darkblue"
         },
         "name": "Train Dataset",
         "type": "scatter",
         "x": [
          0.23910048050958246,
          0.24579627804241175,
          0.2495598381621832,
          0.252492075575241,
          0.2591878731080703,
          0.26588367064089957,
          0.27257946817372886,
          0.2748708746023368,
          0.27927526570655814,
          0.2847555451367338,
          0.2859710632393874,
          0.29110974272330464,
          0.2926668607722167,
          0.29737364267952787,
          0.2981789437922712,
          0.299362658305046,
          0.3022163963912451,
          0.30365078107906096,
          0.30535948748347885,
          0.3056662997312914,
          0.3060584558378753,
          0.30739796554406434,
          0.31038721960745236,
          0.3116575480578375,
          0.31275425337070456,
          0.3132480874506693,
          0.31476407408268103,
          0.3156105190514359,
          0.31599612637976043,
          0.31945005090353384,
          0.3204678572332696,
          0.32089342452747793,
          0.32251498119590755,
          0.32454191020356354,
          0.3260937700968952,
          0.32614584843636313,
          0.3262598083515739,
          0.32702296678407705,
          0.32737941318696884,
          0.3274800987039712,
          0.3276740281918349,
          0.3278489821193186,
          0.32847695166143537,
          0.3289965821631957,
          0.3291425321214067,
          0.32944240247262924,
          0.33010107874303934,
          0.3304198351919957,
          0.3308849943032519,
          0.3310838967116725,
          0.33118927321445596,
          0.33127340310040587,
          0.331391226246172,
          0.3317287298310531,
          0.3318030048514673,
          0.3321877905149222,
          0.3323893111859127,
          0.3325316951611631,
          0.3325901409234829,
          0.3328416459691924,
          0.33291009417772843,
          0.33302179635866436,
          0.33321516583078875,
          0.3333279132531648,
          0.3333333333333334,
          0.3335855884298761,
          0.3337812387079863,
          0.3340925924146896,
          0.3341923513214852,
          0.33530823411916405,
          0.3355142077451316,
          0.3359493511569099,
          0.33627976185098063,
          0.3366632672810166,
          0.3368061788862405,
          0.33727618572348783,
          0.33744486918227706,
          0.33755817517998893,
          0.3380399616912101,
          0.33888787606699905,
          0.33953744350202164,
          0.340347054950257,
          0.34053686325276494,
          0.3407623986986258,
          0.3411553859011306,
          0.3412222647706945,
          0.341732803232095,
          0.34439766631493146,
          0.34447378409746887,
          0.346233241034851,
          0.34682561533508877,
          0.3482521628032368,
          0.34878437230511566,
          0.3491317258091449,
          0.35275022933272915,
          0.3529290385676802,
          0.3542742867665935,
          0.3570418996714116,
          0.3571534298477468,
          0.35962483610050955,
          0.36103635913782434,
          0.36144278638282,
          0.3636581030659059,
          0.3663206336333388,
          0.36788517528758785,
          0.37027734469323764,
          0.3716318933454126,
          0.3730164311661681,
          0.37492985450308003,
          0.3760190253915726,
          0.37971222869899734,
          0.3833746723323037,
          0.38640802623182663,
          0.39291582484971765,
          0.3931038237646559,
          0.3986936923109014,
          0.3997996212974852,
          0.40524236235053607,
          0.4064954188303145,
          0.4127809741918535,
          0.41319121636314377,
          0.4133918463914682,
          0.41750232644189017,
          0.41988701389597305,
          0.4265828114288023,
          0.42927782575067464,
          0.4332786089616316,
          0.43997440649446085,
          0.4438586779357424,
          0.4466702040272902,
          0.4533660015601194,
          0.46006179909294875,
          0.466757596625778,
          0.4734533941586073,
          0.48014919169143655,
          0.48684498922426583,
          0.4935407867570951,
          0.5002365842899245,
          0.5069323818227537,
          0.5136281793555829,
          0.5203239768884123,
          0.5270197744212415,
          0.5337155719540708,
          0.5404113694869,
          0.5471071670197294,
          0.5538029645525586,
          0.560498762085388,
          0.5671945596182172
         ],
         "y": [
          4.4595523395849343e-10,
          3.180319892747972e-08,
          2.8596226109208656e-07,
          1.431276721755679e-06,
          4.068980167022198e-05,
          0.0007317688725901548,
          0.008343082045142045,
          0.017291513959666327,
          0.06053410833785609,
          0.22019364332509536,
          0.28189608586544995,
          0.6888470453788036,
          0.8628514943520867,
          1.5269000760345912,
          1.6604394457369693,
          1.8679053141273525,
          2.434793419517313,
          2.7685983643504155,
          3.229081498567975,
          3.320776121082414,
          3.4425944447353047,
          3.9026487425926994,
          5.24073350418065,
          5.971527905773297,
          6.692479317760279,
          7.045694637212546,
          8.243468867208327,
          8.986280544119523,
          9.34174779212457,
          12.934756301077543,
          14.095436277492903,
          14.587498226399513,
          16.468922711211583,
          18.73645609317101,
          20.309823758379068,
          20.359138016137837,
          20.46615295417458,
          21.149142681735384,
          21.44658923824933,
          21.527959981368102,
          21.681296272250858,
          21.815717307487063,
          22.26635862886898,
          22.599730534623138,
          22.686654088437727,
          22.855759335563327,
          23.181193581153046,
          23.315379009258926,
          23.483273713845957,
          23.544826401998385,
          23.57493132310638,
          23.597716702117072,
          23.627758277967203,
          23.701702761176904,
          23.71556005585329,
          23.77336784649096,
          23.79428871330531,
          23.805197019979797,
          23.808747277513465,
          23.817877503853985,
          23.818638799481107,
          23.81830182181968,
          23.813101768425916,
          23.807378470220954,
          23.80705354081574,
          23.78689759364207,
          23.76451496825623,
          23.716861567934522,
          23.698495697684926,
          23.3935300835926,
          23.31789990678811,
          23.139230937093014,
          22.98695968643627,
          22.792960734551244,
          22.7160801865065,
          22.446390595456183,
          22.34351984849115,
          22.27268177284832,
          21.956470696719816,
          21.34558209414126,
          20.836305535913908,
          20.159543373460842,
          19.995074837617143,
          19.79712475728028,
          19.446235804378404,
          19.38582796605819,
          18.918871000902524,
          16.389171561847782,
          16.31634908928769,
          14.655717902975574,
          14.112318582570072,
          12.851790650954507,
          12.401821168756516,
          12.114707740060666,
          9.463841018257458,
          9.349624699614793,
          8.541141334458437,
          7.14969221181794,
          7.100897204926279,
          6.1515802652020986,
          5.713142231545275,
          5.599400659679155,
          5.065595720174518,
          4.5785651428440355,
          4.346443754452026,
          4.033613008107737,
          3.865667151562634,
          3.6931407525214373,
          3.445562056491636,
          3.2978655642180663,
          2.763035397210255,
          2.2214163871050747,
          1.8200512757504725,
          1.3036229781747375,
          1.2976786522609638,
          1.3601798536749097,
          1.4208775693726459,
          1.835300769614872,
          1.9328517097267184,
          2.205038556686385,
          2.2046005663561496,
          2.203456387296932,
          2.0488404145768153,
          1.8593224635737133,
          1.151413874619844,
          0.8857386766197171,
          0.5970742277502123,
          0.459136250551334,
          0.5237899025641368,
          0.5869889722281585,
          0.6277107459570415,
          0.43951076649554455,
          0.19460569588048987,
          0.054261211654652065,
          0.009522462774270478,
          0.001051737975121657,
          7.310732517768888e-05,
          3.1982796906752527e-06,
          9.259365789080817e-08,
          2.339995324422394e-07,
          7.493170109451454e-06,
          0.000152002203546465,
          0.0019405717974505109,
          0.015592082475592349,
          0.07884480933450767,
          0.25092080215197476,
          0.5025679663141451,
          0.6335013069505666
         ]
        },
        {
         "fill": "tozeroy",
         "line": {
          "color": "#69b3a2"
         },
         "name": "Test Dataset",
         "type": "scatter",
         "x": [
          0.23910048050958246,
          0.24579627804241175,
          0.2495598381621832,
          0.252492075575241,
          0.2591878731080703,
          0.26588367064089957,
          0.27257946817372886,
          0.2748708746023368,
          0.27927526570655814,
          0.2847555451367338,
          0.2859710632393874,
          0.29110974272330464,
          0.2926668607722167,
          0.29737364267952787,
          0.2981789437922712,
          0.299362658305046,
          0.3022163963912451,
          0.30365078107906096,
          0.30535948748347885,
          0.3056662997312914,
          0.3060584558378753,
          0.30739796554406434,
          0.31038721960745236,
          0.3116575480578375,
          0.31275425337070456,
          0.3132480874506693,
          0.31476407408268103,
          0.3156105190514359,
          0.31599612637976043,
          0.31945005090353384,
          0.3204678572332696,
          0.32089342452747793,
          0.32251498119590755,
          0.32454191020356354,
          0.3260937700968952,
          0.32614584843636313,
          0.3262598083515739,
          0.32702296678407705,
          0.32737941318696884,
          0.3274800987039712,
          0.3276740281918349,
          0.3278489821193186,
          0.32847695166143537,
          0.3289965821631957,
          0.3291425321214067,
          0.32944240247262924,
          0.33010107874303934,
          0.3304198351919957,
          0.3308849943032519,
          0.3310838967116725,
          0.33118927321445596,
          0.33127340310040587,
          0.331391226246172,
          0.3317287298310531,
          0.3318030048514673,
          0.3321877905149222,
          0.3323893111859127,
          0.3325316951611631,
          0.3325901409234829,
          0.3328416459691924,
          0.33291009417772843,
          0.33302179635866436,
          0.33321516583078875,
          0.3333279132531648,
          0.3333333333333334,
          0.3335855884298761,
          0.3337812387079863,
          0.3340925924146896,
          0.3341923513214852,
          0.33530823411916405,
          0.3355142077451316,
          0.3359493511569099,
          0.33627976185098063,
          0.3366632672810166,
          0.3368061788862405,
          0.33727618572348783,
          0.33744486918227706,
          0.33755817517998893,
          0.3380399616912101,
          0.33888787606699905,
          0.33953744350202164,
          0.340347054950257,
          0.34053686325276494,
          0.3407623986986258,
          0.3411553859011306,
          0.3412222647706945,
          0.341732803232095,
          0.34439766631493146,
          0.34447378409746887,
          0.346233241034851,
          0.34682561533508877,
          0.3482521628032368,
          0.34878437230511566,
          0.3491317258091449,
          0.35275022933272915,
          0.3529290385676802,
          0.3542742867665935,
          0.3570418996714116,
          0.3571534298477468,
          0.35962483610050955,
          0.36103635913782434,
          0.36144278638282,
          0.3636581030659059,
          0.3663206336333388,
          0.36788517528758785,
          0.37027734469323764,
          0.3716318933454126,
          0.3730164311661681,
          0.37492985450308003,
          0.3760190253915726,
          0.37971222869899734,
          0.3833746723323037,
          0.38640802623182663,
          0.39291582484971765,
          0.3931038237646559,
          0.3986936923109014,
          0.3997996212974852,
          0.40524236235053607,
          0.4064954188303145,
          0.4127809741918535,
          0.41319121636314377,
          0.4133918463914682,
          0.41750232644189017,
          0.41988701389597305,
          0.4265828114288023,
          0.42927782575067464,
          0.4332786089616316,
          0.43997440649446085,
          0.4438586779357424,
          0.4466702040272902,
          0.4533660015601194,
          0.46006179909294875,
          0.466757596625778,
          0.4734533941586073,
          0.48014919169143655,
          0.48684498922426583,
          0.4935407867570951,
          0.5002365842899245,
          0.5069323818227537,
          0.5136281793555829,
          0.5203239768884123,
          0.5270197744212415,
          0.5337155719540708,
          0.5404113694869,
          0.5471071670197294,
          0.5538029645525586,
          0.560498762085388,
          0.5671945596182172
         ],
         "y": [
          1.1754841191018937,
          1.2030837131304313,
          1.0947918853014516,
          0.999038196213131,
          0.8813400384701349,
          0.9687960987133498,
          1.323061533145304,
          1.5379055457313469,
          2.117400614181007,
          3.138551719451441,
          3.4049925332486426,
          4.657960389431818,
          5.067772670196755,
          6.327451029367716,
          6.538145405265524,
          6.8410788665664,
          7.526122471751772,
          7.8417950697281125,
          8.193095564546836,
          8.253675880561282,
          8.33017883469389,
          8.585426358705792,
          9.1526215789371,
          9.412356284733415,
          9.655971775038415,
          9.773261307541409,
          10.169593696351264,
          10.418295625252943,
          10.538792836674073,
          11.833459989757957,
          12.28637495810108,
          12.483950219541004,
          13.271410796587794,
          14.293516727404366,
          15.057155768151935,
          15.081929463452221,
          15.135882519677525,
          15.486818137466521,
          15.64354881530404,
          15.686879121593824,
          15.769093939157434,
          15.841799382702,
          16.090328745768762,
          16.279751186453105,
          16.33007449332026,
          16.429270899849218,
          16.626119993946165,
          16.710340113320367,
          16.819504067153886,
          16.861020168650132,
          16.881728362462006,
          16.89761353162478,
          16.91888474888014,
          16.97341496165293,
          16.98412308928672,
          17.03198354672428,
          17.051880707857208,
          17.06376505321381,
          17.0681183427093,
          17.08333803610531,
          17.08648720435816,
          17.09070829701537,
          17.095310867792293,
          17.09640416641838,
          17.096427111662496,
          17.094478896020004,
          17.088885991350022,
          17.072595265425043,
          17.06545007230582,
          16.92174706560464,
          16.88247480872577,
          16.786609764531395,
          16.702258487656874,
          16.592055867638802,
          16.547662862048906,
          16.38919509720227,
          16.327746873709387,
          16.28514197590471,
          16.092321483300626,
          15.709335977418766,
          15.38122883266263,
          14.934779472984454,
          14.824668554752094,
          14.691365643832274,
          14.45308342033321,
          14.411815008555966,
          14.090493269389835,
          12.290356346638195,
          12.23732520883372,
          11.015453496386488,
          10.611845451219164,
          9.673186884080632,
          9.338541770957274,
          9.125470241645424,
          7.200793928722323,
          7.12064263504233,
          6.56281493705283,
          5.646225513483403,
          5.615043149722626,
          5.014397659912747,
          4.732699303137187,
          4.657611657453161,
          4.281381641452782,
          3.8713998024264074,
          3.6392846030685018,
          3.2905771226176146,
          3.0974430173185694,
          2.9055122470257366,
          2.6541128733009267,
          2.520652962408722,
          2.1381797501899653,
          1.8853526142497332,
          1.7683681928240584,
          1.6871246653053915,
          1.6861428370079676,
          1.6507572046681318,
          1.6416286998104896,
          1.5967693377017418,
          1.5867097532952295,
          1.5039093742437755,
          1.494940037949594,
          1.4903474781458927,
          1.3672415877558286,
          1.2761810138198753,
          1.0180279100250773,
          0.9300570519888799,
          0.8069525711738524,
          0.5642521462169467,
          0.40299805463016247,
          0.2928476278050499,
          0.10324847065794483,
          0.024210155956493732,
          0.006180459671299891,
          0.018366251115311528,
          0.08287200142860489,
          0.24788910584130677,
          0.48234530970448247,
          0.6103710261155414,
          0.5023002271460387,
          0.2688230050598488,
          0.09356277206617145,
          0.021177433245764626,
          0.003117289626316586,
          0.00029841082895335543,
          1.857742838537069e-05,
          7.521253116705315e-07,
          1.9802882247383835e-08,
          3.390784565254478e-10
         ]
        }
       ],
       "layout": {
        "height": 300,
        "legend": {
         "title": {
          "text": "Dataset"
         },
         "xanchor": "left",
         "y": 0.9,
         "yanchor": "top"
        },
        "template": {
         "data": {
          "bar": [
           {
            "error_x": {
             "color": "#2a3f5f"
            },
            "error_y": {
             "color": "#2a3f5f"
            },
            "marker": {
             "line": {
              "color": "#E5ECF6",
              "width": 0.5
             },
             "pattern": {
              "fillmode": "overlay",
              "size": 10,
              "solidity": 0.2
             }
            },
            "type": "bar"
           }
          ],
          "barpolar": [
           {
            "marker": {
             "line": {
              "color": "#E5ECF6",
              "width": 0.5
             },
             "pattern": {
              "fillmode": "overlay",
              "size": 10,
              "solidity": 0.2
             }
            },
            "type": "barpolar"
           }
          ],
          "carpet": [
           {
            "aaxis": {
             "endlinecolor": "#2a3f5f",
             "gridcolor": "white",
             "linecolor": "white",
             "minorgridcolor": "white",
             "startlinecolor": "#2a3f5f"
            },
            "baxis": {
             "endlinecolor": "#2a3f5f",
             "gridcolor": "white",
             "linecolor": "white",
             "minorgridcolor": "white",
             "startlinecolor": "#2a3f5f"
            },
            "type": "carpet"
           }
          ],
          "choropleth": [
           {
            "colorbar": {
             "outlinewidth": 0,
             "ticks": ""
            },
            "type": "choropleth"
           }
          ],
          "contour": [
           {
            "colorbar": {
             "outlinewidth": 0,
             "ticks": ""
            },
            "colorscale": [
             [
              0,
              "#0d0887"
             ],
             [
              0.1111111111111111,
              "#46039f"
             ],
             [
              0.2222222222222222,
              "#7201a8"
             ],
             [
              0.3333333333333333,
              "#9c179e"
             ],
             [
              0.4444444444444444,
              "#bd3786"
             ],
             [
              0.5555555555555556,
              "#d8576b"
             ],
             [
              0.6666666666666666,
              "#ed7953"
             ],
             [
              0.7777777777777778,
              "#fb9f3a"
             ],
             [
              0.8888888888888888,
              "#fdca26"
             ],
             [
              1,
              "#f0f921"
             ]
            ],
            "type": "contour"
           }
          ],
          "contourcarpet": [
           {
            "colorbar": {
             "outlinewidth": 0,
             "ticks": ""
            },
            "type": "contourcarpet"
           }
          ],
          "heatmap": [
           {
            "colorbar": {
             "outlinewidth": 0,
             "ticks": ""
            },
            "colorscale": [
             [
              0,
              "#0d0887"
             ],
             [
              0.1111111111111111,
              "#46039f"
             ],
             [
              0.2222222222222222,
              "#7201a8"
             ],
             [
              0.3333333333333333,
              "#9c179e"
             ],
             [
              0.4444444444444444,
              "#bd3786"
             ],
             [
              0.5555555555555556,
              "#d8576b"
             ],
             [
              0.6666666666666666,
              "#ed7953"
             ],
             [
              0.7777777777777778,
              "#fb9f3a"
             ],
             [
              0.8888888888888888,
              "#fdca26"
             ],
             [
              1,
              "#f0f921"
             ]
            ],
            "type": "heatmap"
           }
          ],
          "heatmapgl": [
           {
            "colorbar": {
             "outlinewidth": 0,
             "ticks": ""
            },
            "colorscale": [
             [
              0,
              "#0d0887"
             ],
             [
              0.1111111111111111,
              "#46039f"
             ],
             [
              0.2222222222222222,
              "#7201a8"
             ],
             [
              0.3333333333333333,
              "#9c179e"
             ],
             [
              0.4444444444444444,
              "#bd3786"
             ],
             [
              0.5555555555555556,
              "#d8576b"
             ],
             [
              0.6666666666666666,
              "#ed7953"
             ],
             [
              0.7777777777777778,
              "#fb9f3a"
             ],
             [
              0.8888888888888888,
              "#fdca26"
             ],
             [
              1,
              "#f0f921"
             ]
            ],
            "type": "heatmapgl"
           }
          ],
          "histogram": [
           {
            "marker": {
             "pattern": {
              "fillmode": "overlay",
              "size": 10,
              "solidity": 0.2
             }
            },
            "type": "histogram"
           }
          ],
          "histogram2d": [
           {
            "colorbar": {
             "outlinewidth": 0,
             "ticks": ""
            },
            "colorscale": [
             [
              0,
              "#0d0887"
             ],
             [
              0.1111111111111111,
              "#46039f"
             ],
             [
              0.2222222222222222,
              "#7201a8"
             ],
             [
              0.3333333333333333,
              "#9c179e"
             ],
             [
              0.4444444444444444,
              "#bd3786"
             ],
             [
              0.5555555555555556,
              "#d8576b"
             ],
             [
              0.6666666666666666,
              "#ed7953"
             ],
             [
              0.7777777777777778,
              "#fb9f3a"
             ],
             [
              0.8888888888888888,
              "#fdca26"
             ],
             [
              1,
              "#f0f921"
             ]
            ],
            "type": "histogram2d"
           }
          ],
          "histogram2dcontour": [
           {
            "colorbar": {
             "outlinewidth": 0,
             "ticks": ""
            },
            "colorscale": [
             [
              0,
              "#0d0887"
             ],
             [
              0.1111111111111111,
              "#46039f"
             ],
             [
              0.2222222222222222,
              "#7201a8"
             ],
             [
              0.3333333333333333,
              "#9c179e"
             ],
             [
              0.4444444444444444,
              "#bd3786"
             ],
             [
              0.5555555555555556,
              "#d8576b"
             ],
             [
              0.6666666666666666,
              "#ed7953"
             ],
             [
              0.7777777777777778,
              "#fb9f3a"
             ],
             [
              0.8888888888888888,
              "#fdca26"
             ],
             [
              1,
              "#f0f921"
             ]
            ],
            "type": "histogram2dcontour"
           }
          ],
          "mesh3d": [
           {
            "colorbar": {
             "outlinewidth": 0,
             "ticks": ""
            },
            "type": "mesh3d"
           }
          ],
          "parcoords": [
           {
            "line": {
             "colorbar": {
              "outlinewidth": 0,
              "ticks": ""
             }
            },
            "type": "parcoords"
           }
          ],
          "pie": [
           {
            "automargin": true,
            "type": "pie"
           }
          ],
          "scatter": [
           {
            "marker": {
             "colorbar": {
              "outlinewidth": 0,
              "ticks": ""
             }
            },
            "type": "scatter"
           }
          ],
          "scatter3d": [
           {
            "line": {
             "colorbar": {
              "outlinewidth": 0,
              "ticks": ""
             }
            },
            "marker": {
             "colorbar": {
              "outlinewidth": 0,
              "ticks": ""
             }
            },
            "type": "scatter3d"
           }
          ],
          "scattercarpet": [
           {
            "marker": {
             "colorbar": {
              "outlinewidth": 0,
              "ticks": ""
             }
            },
            "type": "scattercarpet"
           }
          ],
          "scattergeo": [
           {
            "marker": {
             "colorbar": {
              "outlinewidth": 0,
              "ticks": ""
             }
            },
            "type": "scattergeo"
           }
          ],
          "scattergl": [
           {
            "marker": {
             "colorbar": {
              "outlinewidth": 0,
              "ticks": ""
             }
            },
            "type": "scattergl"
           }
          ],
          "scattermapbox": [
           {
            "marker": {
             "colorbar": {
              "outlinewidth": 0,
              "ticks": ""
             }
            },
            "type": "scattermapbox"
           }
          ],
          "scatterpolar": [
           {
            "marker": {
             "colorbar": {
              "outlinewidth": 0,
              "ticks": ""
             }
            },
            "type": "scatterpolar"
           }
          ],
          "scatterpolargl": [
           {
            "marker": {
             "colorbar": {
              "outlinewidth": 0,
              "ticks": ""
             }
            },
            "type": "scatterpolargl"
           }
          ],
          "scatterternary": [
           {
            "marker": {
             "colorbar": {
              "outlinewidth": 0,
              "ticks": ""
             }
            },
            "type": "scatterternary"
           }
          ],
          "surface": [
           {
            "colorbar": {
             "outlinewidth": 0,
             "ticks": ""
            },
            "colorscale": [
             [
              0,
              "#0d0887"
             ],
             [
              0.1111111111111111,
              "#46039f"
             ],
             [
              0.2222222222222222,
              "#7201a8"
             ],
             [
              0.3333333333333333,
              "#9c179e"
             ],
             [
              0.4444444444444444,
              "#bd3786"
             ],
             [
              0.5555555555555556,
              "#d8576b"
             ],
             [
              0.6666666666666666,
              "#ed7953"
             ],
             [
              0.7777777777777778,
              "#fb9f3a"
             ],
             [
              0.8888888888888888,
              "#fdca26"
             ],
             [
              1,
              "#f0f921"
             ]
            ],
            "type": "surface"
           }
          ],
          "table": [
           {
            "cells": {
             "fill": {
              "color": "#EBF0F8"
             },
             "line": {
              "color": "white"
             }
            },
            "header": {
             "fill": {
              "color": "#C8D4E3"
             },
             "line": {
              "color": "white"
             }
            },
            "type": "table"
           }
          ]
         },
         "layout": {
          "annotationdefaults": {
           "arrowcolor": "#2a3f5f",
           "arrowhead": 0,
           "arrowwidth": 1
          },
          "autotypenumbers": "strict",
          "coloraxis": {
           "colorbar": {
            "outlinewidth": 0,
            "ticks": ""
           }
          },
          "colorscale": {
           "diverging": [
            [
             0,
             "#8e0152"
            ],
            [
             0.1,
             "#c51b7d"
            ],
            [
             0.2,
             "#de77ae"
            ],
            [
             0.3,
             "#f1b6da"
            ],
            [
             0.4,
             "#fde0ef"
            ],
            [
             0.5,
             "#f7f7f7"
            ],
            [
             0.6,
             "#e6f5d0"
            ],
            [
             0.7,
             "#b8e186"
            ],
            [
             0.8,
             "#7fbc41"
            ],
            [
             0.9,
             "#4d9221"
            ],
            [
             1,
             "#276419"
            ]
           ],
           "sequential": [
            [
             0,
             "#0d0887"
            ],
            [
             0.1111111111111111,
             "#46039f"
            ],
            [
             0.2222222222222222,
             "#7201a8"
            ],
            [
             0.3333333333333333,
             "#9c179e"
            ],
            [
             0.4444444444444444,
             "#bd3786"
            ],
            [
             0.5555555555555556,
             "#d8576b"
            ],
            [
             0.6666666666666666,
             "#ed7953"
            ],
            [
             0.7777777777777778,
             "#fb9f3a"
            ],
            [
             0.8888888888888888,
             "#fdca26"
            ],
            [
             1,
             "#f0f921"
            ]
           ],
           "sequentialminus": [
            [
             0,
             "#0d0887"
            ],
            [
             0.1111111111111111,
             "#46039f"
            ],
            [
             0.2222222222222222,
             "#7201a8"
            ],
            [
             0.3333333333333333,
             "#9c179e"
            ],
            [
             0.4444444444444444,
             "#bd3786"
            ],
            [
             0.5555555555555556,
             "#d8576b"
            ],
            [
             0.6666666666666666,
             "#ed7953"
            ],
            [
             0.7777777777777778,
             "#fb9f3a"
            ],
            [
             0.8888888888888888,
             "#fdca26"
            ],
            [
             1,
             "#f0f921"
            ]
           ]
          },
          "colorway": [
           "#636efa",
           "#EF553B",
           "#00cc96",
           "#ab63fa",
           "#FFA15A",
           "#19d3f3",
           "#FF6692",
           "#B6E880",
           "#FF97FF",
           "#FECB52"
          ],
          "font": {
           "color": "#2a3f5f"
          },
          "geo": {
           "bgcolor": "white",
           "lakecolor": "white",
           "landcolor": "#E5ECF6",
           "showlakes": true,
           "showland": true,
           "subunitcolor": "white"
          },
          "hoverlabel": {
           "align": "left"
          },
          "hovermode": "closest",
          "mapbox": {
           "style": "light"
          },
          "paper_bgcolor": "white",
          "plot_bgcolor": "#E5ECF6",
          "polar": {
           "angularaxis": {
            "gridcolor": "white",
            "linecolor": "white",
            "ticks": ""
           },
           "bgcolor": "#E5ECF6",
           "radialaxis": {
            "gridcolor": "white",
            "linecolor": "white",
            "ticks": ""
           }
          },
          "scene": {
           "xaxis": {
            "backgroundcolor": "#E5ECF6",
            "gridcolor": "white",
            "gridwidth": 2,
            "linecolor": "white",
            "showbackground": true,
            "ticks": "",
            "zerolinecolor": "white"
           },
           "yaxis": {
            "backgroundcolor": "#E5ECF6",
            "gridcolor": "white",
            "gridwidth": 2,
            "linecolor": "white",
            "showbackground": true,
            "ticks": "",
            "zerolinecolor": "white"
           },
           "zaxis": {
            "backgroundcolor": "#E5ECF6",
            "gridcolor": "white",
            "gridwidth": 2,
            "linecolor": "white",
            "showbackground": true,
            "ticks": "",
            "zerolinecolor": "white"
           }
          },
          "shapedefaults": {
           "line": {
            "color": "#2a3f5f"
           }
          },
          "ternary": {
           "aaxis": {
            "gridcolor": "white",
            "linecolor": "white",
            "ticks": ""
           },
           "baxis": {
            "gridcolor": "white",
            "linecolor": "white",
            "ticks": ""
           },
           "bgcolor": "#E5ECF6",
           "caxis": {
            "gridcolor": "white",
            "linecolor": "white",
            "ticks": ""
           }
          },
          "title": {
           "x": 0.05
          },
          "xaxis": {
           "automargin": true,
           "gridcolor": "white",
           "linecolor": "white",
           "ticks": "",
           "title": {
            "standoff": 15
           },
           "zerolinecolor": "white",
           "zerolinewidth": 2
          },
          "yaxis": {
           "automargin": true,
           "gridcolor": "white",
           "linecolor": "white",
           "ticks": "",
           "title": {
            "standoff": 15
           },
           "zerolinecolor": "white",
           "zerolinewidth": 2
          }
         }
        },
        "title": {
         "text": "Feature: normalized_green_mean - Explains 100% of dataset difference"
        },
        "width": 700,
        "xaxis": {
         "fixedrange": false,
         "range": [
          0.2495598381621832,
          0.4438586779357424
         ],
         "title": {
          "text": "Value"
         }
        },
        "yaxis": {
         "fixedrange": true,
         "title": {
          "text": "Probability Density"
         }
        }
       }
      },
      "text/html": [
       "<div>                            <div id=\"e4e1d1a9-571c-4002-b46e-003acbedce68\" class=\"plotly-graph-div\" style=\"height:300px; width:700px;\"></div>            <script type=\"text/javascript\">                require([\"plotly\"], function(Plotly) {                    window.PLOTLYENV=window.PLOTLYENV || {};                                    if (document.getElementById(\"e4e1d1a9-571c-4002-b46e-003acbedce68\")) {                    Plotly.newPlot(                        \"e4e1d1a9-571c-4002-b46e-003acbedce68\",                        [{\"fill\":\"tozeroy\",\"line\":{\"color\":\"darkblue\"},\"name\":\"Train Dataset\",\"x\":[0.23910048050958246,0.24579627804241175,0.2495598381621832,0.252492075575241,0.2591878731080703,0.26588367064089957,0.27257946817372886,0.2748708746023368,0.27927526570655814,0.2847555451367338,0.2859710632393874,0.29110974272330464,0.2926668607722167,0.29737364267952787,0.2981789437922712,0.299362658305046,0.3022163963912451,0.30365078107906096,0.30535948748347885,0.3056662997312914,0.3060584558378753,0.30739796554406434,0.31038721960745236,0.3116575480578375,0.31275425337070456,0.3132480874506693,0.31476407408268103,0.3156105190514359,0.31599612637976043,0.31945005090353384,0.3204678572332696,0.32089342452747793,0.32251498119590755,0.32454191020356354,0.3260937700968952,0.32614584843636313,0.3262598083515739,0.32702296678407705,0.32737941318696884,0.3274800987039712,0.3276740281918349,0.3278489821193186,0.32847695166143537,0.3289965821631957,0.3291425321214067,0.32944240247262924,0.33010107874303934,0.3304198351919957,0.3308849943032519,0.3310838967116725,0.33118927321445596,0.33127340310040587,0.331391226246172,0.3317287298310531,0.3318030048514673,0.3321877905149222,0.3323893111859127,0.3325316951611631,0.3325901409234829,0.3328416459691924,0.33291009417772843,0.33302179635866436,0.33321516583078875,0.3333279132531648,0.3333333333333334,0.3335855884298761,0.3337812387079863,0.3340925924146896,0.3341923513214852,0.33530823411916405,0.3355142077451316,0.3359493511569099,0.33627976185098063,0.3366632672810166,0.3368061788862405,0.33727618572348783,0.33744486918227706,0.33755817517998893,0.3380399616912101,0.33888787606699905,0.33953744350202164,0.340347054950257,0.34053686325276494,0.3407623986986258,0.3411553859011306,0.3412222647706945,0.341732803232095,0.34439766631493146,0.34447378409746887,0.346233241034851,0.34682561533508877,0.3482521628032368,0.34878437230511566,0.3491317258091449,0.35275022933272915,0.3529290385676802,0.3542742867665935,0.3570418996714116,0.3571534298477468,0.35962483610050955,0.36103635913782434,0.36144278638282,0.3636581030659059,0.3663206336333388,0.36788517528758785,0.37027734469323764,0.3716318933454126,0.3730164311661681,0.37492985450308003,0.3760190253915726,0.37971222869899734,0.3833746723323037,0.38640802623182663,0.39291582484971765,0.3931038237646559,0.3986936923109014,0.3997996212974852,0.40524236235053607,0.4064954188303145,0.4127809741918535,0.41319121636314377,0.4133918463914682,0.41750232644189017,0.41988701389597305,0.4265828114288023,0.42927782575067464,0.4332786089616316,0.43997440649446085,0.4438586779357424,0.4466702040272902,0.4533660015601194,0.46006179909294875,0.466757596625778,0.4734533941586073,0.48014919169143655,0.48684498922426583,0.4935407867570951,0.5002365842899245,0.5069323818227537,0.5136281793555829,0.5203239768884123,0.5270197744212415,0.5337155719540708,0.5404113694869,0.5471071670197294,0.5538029645525586,0.560498762085388,0.5671945596182172],\"y\":[4.4595523395849343e-10,3.180319892747972e-08,2.8596226109208656e-07,1.431276721755679e-06,4.068980167022198e-05,0.0007317688725901548,0.008343082045142045,0.017291513959666327,0.06053410833785609,0.22019364332509536,0.28189608586544995,0.6888470453788036,0.8628514943520867,1.5269000760345912,1.6604394457369693,1.8679053141273525,2.434793419517313,2.7685983643504155,3.229081498567975,3.320776121082414,3.4425944447353047,3.9026487425926994,5.24073350418065,5.971527905773297,6.692479317760279,7.045694637212546,8.243468867208327,8.986280544119523,9.34174779212457,12.934756301077543,14.095436277492903,14.587498226399513,16.468922711211583,18.73645609317101,20.309823758379068,20.359138016137837,20.46615295417458,21.149142681735384,21.44658923824933,21.527959981368102,21.681296272250858,21.815717307487063,22.26635862886898,22.599730534623138,22.686654088437727,22.855759335563327,23.181193581153046,23.315379009258926,23.483273713845957,23.544826401998385,23.57493132310638,23.597716702117072,23.627758277967203,23.701702761176904,23.71556005585329,23.77336784649096,23.79428871330531,23.805197019979797,23.808747277513465,23.817877503853985,23.818638799481107,23.81830182181968,23.813101768425916,23.807378470220954,23.80705354081574,23.78689759364207,23.76451496825623,23.716861567934522,23.698495697684926,23.3935300835926,23.31789990678811,23.139230937093014,22.98695968643627,22.792960734551244,22.7160801865065,22.446390595456183,22.34351984849115,22.27268177284832,21.956470696719816,21.34558209414126,20.836305535913908,20.159543373460842,19.995074837617143,19.79712475728028,19.446235804378404,19.38582796605819,18.918871000902524,16.389171561847782,16.31634908928769,14.655717902975574,14.112318582570072,12.851790650954507,12.401821168756516,12.114707740060666,9.463841018257458,9.349624699614793,8.541141334458437,7.14969221181794,7.100897204926279,6.1515802652020986,5.713142231545275,5.599400659679155,5.065595720174518,4.5785651428440355,4.346443754452026,4.033613008107737,3.865667151562634,3.6931407525214373,3.445562056491636,3.2978655642180663,2.763035397210255,2.2214163871050747,1.8200512757504725,1.3036229781747375,1.2976786522609638,1.3601798536749097,1.4208775693726459,1.835300769614872,1.9328517097267184,2.205038556686385,2.2046005663561496,2.203456387296932,2.0488404145768153,1.8593224635737133,1.151413874619844,0.8857386766197171,0.5970742277502123,0.459136250551334,0.5237899025641368,0.5869889722281585,0.6277107459570415,0.43951076649554455,0.19460569588048987,0.054261211654652065,0.009522462774270478,0.001051737975121657,7.310732517768888e-05,3.1982796906752527e-06,9.259365789080817e-08,2.339995324422394e-07,7.493170109451454e-06,0.000152002203546465,0.0019405717974505109,0.015592082475592349,0.07884480933450767,0.25092080215197476,0.5025679663141451,0.6335013069505666],\"type\":\"scatter\"},{\"fill\":\"tozeroy\",\"line\":{\"color\":\"#69b3a2\"},\"name\":\"Test Dataset\",\"x\":[0.23910048050958246,0.24579627804241175,0.2495598381621832,0.252492075575241,0.2591878731080703,0.26588367064089957,0.27257946817372886,0.2748708746023368,0.27927526570655814,0.2847555451367338,0.2859710632393874,0.29110974272330464,0.2926668607722167,0.29737364267952787,0.2981789437922712,0.299362658305046,0.3022163963912451,0.30365078107906096,0.30535948748347885,0.3056662997312914,0.3060584558378753,0.30739796554406434,0.31038721960745236,0.3116575480578375,0.31275425337070456,0.3132480874506693,0.31476407408268103,0.3156105190514359,0.31599612637976043,0.31945005090353384,0.3204678572332696,0.32089342452747793,0.32251498119590755,0.32454191020356354,0.3260937700968952,0.32614584843636313,0.3262598083515739,0.32702296678407705,0.32737941318696884,0.3274800987039712,0.3276740281918349,0.3278489821193186,0.32847695166143537,0.3289965821631957,0.3291425321214067,0.32944240247262924,0.33010107874303934,0.3304198351919957,0.3308849943032519,0.3310838967116725,0.33118927321445596,0.33127340310040587,0.331391226246172,0.3317287298310531,0.3318030048514673,0.3321877905149222,0.3323893111859127,0.3325316951611631,0.3325901409234829,0.3328416459691924,0.33291009417772843,0.33302179635866436,0.33321516583078875,0.3333279132531648,0.3333333333333334,0.3335855884298761,0.3337812387079863,0.3340925924146896,0.3341923513214852,0.33530823411916405,0.3355142077451316,0.3359493511569099,0.33627976185098063,0.3366632672810166,0.3368061788862405,0.33727618572348783,0.33744486918227706,0.33755817517998893,0.3380399616912101,0.33888787606699905,0.33953744350202164,0.340347054950257,0.34053686325276494,0.3407623986986258,0.3411553859011306,0.3412222647706945,0.341732803232095,0.34439766631493146,0.34447378409746887,0.346233241034851,0.34682561533508877,0.3482521628032368,0.34878437230511566,0.3491317258091449,0.35275022933272915,0.3529290385676802,0.3542742867665935,0.3570418996714116,0.3571534298477468,0.35962483610050955,0.36103635913782434,0.36144278638282,0.3636581030659059,0.3663206336333388,0.36788517528758785,0.37027734469323764,0.3716318933454126,0.3730164311661681,0.37492985450308003,0.3760190253915726,0.37971222869899734,0.3833746723323037,0.38640802623182663,0.39291582484971765,0.3931038237646559,0.3986936923109014,0.3997996212974852,0.40524236235053607,0.4064954188303145,0.4127809741918535,0.41319121636314377,0.4133918463914682,0.41750232644189017,0.41988701389597305,0.4265828114288023,0.42927782575067464,0.4332786089616316,0.43997440649446085,0.4438586779357424,0.4466702040272902,0.4533660015601194,0.46006179909294875,0.466757596625778,0.4734533941586073,0.48014919169143655,0.48684498922426583,0.4935407867570951,0.5002365842899245,0.5069323818227537,0.5136281793555829,0.5203239768884123,0.5270197744212415,0.5337155719540708,0.5404113694869,0.5471071670197294,0.5538029645525586,0.560498762085388,0.5671945596182172],\"y\":[1.1754841191018937,1.2030837131304313,1.0947918853014516,0.999038196213131,0.8813400384701349,0.9687960987133498,1.323061533145304,1.5379055457313469,2.117400614181007,3.138551719451441,3.4049925332486426,4.657960389431818,5.067772670196755,6.327451029367716,6.538145405265524,6.8410788665664,7.526122471751772,7.8417950697281125,8.193095564546836,8.253675880561282,8.33017883469389,8.585426358705792,9.1526215789371,9.412356284733415,9.655971775038415,9.773261307541409,10.169593696351264,10.418295625252943,10.538792836674073,11.833459989757957,12.28637495810108,12.483950219541004,13.271410796587794,14.293516727404366,15.057155768151935,15.081929463452221,15.135882519677525,15.486818137466521,15.64354881530404,15.686879121593824,15.769093939157434,15.841799382702,16.090328745768762,16.279751186453105,16.33007449332026,16.429270899849218,16.626119993946165,16.710340113320367,16.819504067153886,16.861020168650132,16.881728362462006,16.89761353162478,16.91888474888014,16.97341496165293,16.98412308928672,17.03198354672428,17.051880707857208,17.06376505321381,17.0681183427093,17.08333803610531,17.08648720435816,17.09070829701537,17.095310867792293,17.09640416641838,17.096427111662496,17.094478896020004,17.088885991350022,17.072595265425043,17.06545007230582,16.92174706560464,16.88247480872577,16.786609764531395,16.702258487656874,16.592055867638802,16.547662862048906,16.38919509720227,16.327746873709387,16.28514197590471,16.092321483300626,15.709335977418766,15.38122883266263,14.934779472984454,14.824668554752094,14.691365643832274,14.45308342033321,14.411815008555966,14.090493269389835,12.290356346638195,12.23732520883372,11.015453496386488,10.611845451219164,9.673186884080632,9.338541770957274,9.125470241645424,7.200793928722323,7.12064263504233,6.56281493705283,5.646225513483403,5.615043149722626,5.014397659912747,4.732699303137187,4.657611657453161,4.281381641452782,3.8713998024264074,3.6392846030685018,3.2905771226176146,3.0974430173185694,2.9055122470257366,2.6541128733009267,2.520652962408722,2.1381797501899653,1.8853526142497332,1.7683681928240584,1.6871246653053915,1.6861428370079676,1.6507572046681318,1.6416286998104896,1.5967693377017418,1.5867097532952295,1.5039093742437755,1.494940037949594,1.4903474781458927,1.3672415877558286,1.2761810138198753,1.0180279100250773,0.9300570519888799,0.8069525711738524,0.5642521462169467,0.40299805463016247,0.2928476278050499,0.10324847065794483,0.024210155956493732,0.006180459671299891,0.018366251115311528,0.08287200142860489,0.24788910584130677,0.48234530970448247,0.6103710261155414,0.5023002271460387,0.2688230050598488,0.09356277206617145,0.021177433245764626,0.003117289626316586,0.00029841082895335543,1.857742838537069e-05,7.521253116705315e-07,1.9802882247383835e-08,3.390784565254478e-10],\"type\":\"scatter\"}],                        {\"height\":300,\"legend\":{\"title\":{\"text\":\"Dataset\"},\"xanchor\":\"left\",\"y\":0.9,\"yanchor\":\"top\"},\"title\":{\"text\":\"Feature: normalized_green_mean - Explains 100% of dataset difference\"},\"width\":700,\"xaxis\":{\"fixedrange\":false,\"range\":[0.2495598381621832,0.4438586779357424],\"title\":{\"text\":\"Value\"}},\"yaxis\":{\"fixedrange\":true,\"title\":{\"text\":\"Probability Density\"}},\"template\":{\"data\":{\"bar\":[{\"error_x\":{\"color\":\"#2a3f5f\"},\"error_y\":{\"color\":\"#2a3f5f\"},\"marker\":{\"line\":{\"color\":\"#E5ECF6\",\"width\":0.5},\"pattern\":{\"fillmode\":\"overlay\",\"size\":10,\"solidity\":0.2}},\"type\":\"bar\"}],\"barpolar\":[{\"marker\":{\"line\":{\"color\":\"#E5ECF6\",\"width\":0.5},\"pattern\":{\"fillmode\":\"overlay\",\"size\":10,\"solidity\":0.2}},\"type\":\"barpolar\"}],\"carpet\":[{\"aaxis\":{\"endlinecolor\":\"#2a3f5f\",\"gridcolor\":\"white\",\"linecolor\":\"white\",\"minorgridcolor\":\"white\",\"startlinecolor\":\"#2a3f5f\"},\"baxis\":{\"endlinecolor\":\"#2a3f5f\",\"gridcolor\":\"white\",\"linecolor\":\"white\",\"minorgridcolor\":\"white\",\"startlinecolor\":\"#2a3f5f\"},\"type\":\"carpet\"}],\"choropleth\":[{\"colorbar\":{\"outlinewidth\":0,\"ticks\":\"\"},\"type\":\"choropleth\"}],\"contour\":[{\"colorbar\":{\"outlinewidth\":0,\"ticks\":\"\"},\"colorscale\":[[0.0,\"#0d0887\"],[0.1111111111111111,\"#46039f\"],[0.2222222222222222,\"#7201a8\"],[0.3333333333333333,\"#9c179e\"],[0.4444444444444444,\"#bd3786\"],[0.5555555555555556,\"#d8576b\"],[0.6666666666666666,\"#ed7953\"],[0.7777777777777778,\"#fb9f3a\"],[0.8888888888888888,\"#fdca26\"],[1.0,\"#f0f921\"]],\"type\":\"contour\"}],\"contourcarpet\":[{\"colorbar\":{\"outlinewidth\":0,\"ticks\":\"\"},\"type\":\"contourcarpet\"}],\"heatmap\":[{\"colorbar\":{\"outlinewidth\":0,\"ticks\":\"\"},\"colorscale\":[[0.0,\"#0d0887\"],[0.1111111111111111,\"#46039f\"],[0.2222222222222222,\"#7201a8\"],[0.3333333333333333,\"#9c179e\"],[0.4444444444444444,\"#bd3786\"],[0.5555555555555556,\"#d8576b\"],[0.6666666666666666,\"#ed7953\"],[0.7777777777777778,\"#fb9f3a\"],[0.8888888888888888,\"#fdca26\"],[1.0,\"#f0f921\"]],\"type\":\"heatmap\"}],\"heatmapgl\":[{\"colorbar\":{\"outlinewidth\":0,\"ticks\":\"\"},\"colorscale\":[[0.0,\"#0d0887\"],[0.1111111111111111,\"#46039f\"],[0.2222222222222222,\"#7201a8\"],[0.3333333333333333,\"#9c179e\"],[0.4444444444444444,\"#bd3786\"],[0.5555555555555556,\"#d8576b\"],[0.6666666666666666,\"#ed7953\"],[0.7777777777777778,\"#fb9f3a\"],[0.8888888888888888,\"#fdca26\"],[1.0,\"#f0f921\"]],\"type\":\"heatmapgl\"}],\"histogram\":[{\"marker\":{\"pattern\":{\"fillmode\":\"overlay\",\"size\":10,\"solidity\":0.2}},\"type\":\"histogram\"}],\"histogram2d\":[{\"colorbar\":{\"outlinewidth\":0,\"ticks\":\"\"},\"colorscale\":[[0.0,\"#0d0887\"],[0.1111111111111111,\"#46039f\"],[0.2222222222222222,\"#7201a8\"],[0.3333333333333333,\"#9c179e\"],[0.4444444444444444,\"#bd3786\"],[0.5555555555555556,\"#d8576b\"],[0.6666666666666666,\"#ed7953\"],[0.7777777777777778,\"#fb9f3a\"],[0.8888888888888888,\"#fdca26\"],[1.0,\"#f0f921\"]],\"type\":\"histogram2d\"}],\"histogram2dcontour\":[{\"colorbar\":{\"outlinewidth\":0,\"ticks\":\"\"},\"colorscale\":[[0.0,\"#0d0887\"],[0.1111111111111111,\"#46039f\"],[0.2222222222222222,\"#7201a8\"],[0.3333333333333333,\"#9c179e\"],[0.4444444444444444,\"#bd3786\"],[0.5555555555555556,\"#d8576b\"],[0.6666666666666666,\"#ed7953\"],[0.7777777777777778,\"#fb9f3a\"],[0.8888888888888888,\"#fdca26\"],[1.0,\"#f0f921\"]],\"type\":\"histogram2dcontour\"}],\"mesh3d\":[{\"colorbar\":{\"outlinewidth\":0,\"ticks\":\"\"},\"type\":\"mesh3d\"}],\"parcoords\":[{\"line\":{\"colorbar\":{\"outlinewidth\":0,\"ticks\":\"\"}},\"type\":\"parcoords\"}],\"pie\":[{\"automargin\":true,\"type\":\"pie\"}],\"scatter\":[{\"marker\":{\"colorbar\":{\"outlinewidth\":0,\"ticks\":\"\"}},\"type\":\"scatter\"}],\"scatter3d\":[{\"line\":{\"colorbar\":{\"outlinewidth\":0,\"ticks\":\"\"}},\"marker\":{\"colorbar\":{\"outlinewidth\":0,\"ticks\":\"\"}},\"type\":\"scatter3d\"}],\"scattercarpet\":[{\"marker\":{\"colorbar\":{\"outlinewidth\":0,\"ticks\":\"\"}},\"type\":\"scattercarpet\"}],\"scattergeo\":[{\"marker\":{\"colorbar\":{\"outlinewidth\":0,\"ticks\":\"\"}},\"type\":\"scattergeo\"}],\"scattergl\":[{\"marker\":{\"colorbar\":{\"outlinewidth\":0,\"ticks\":\"\"}},\"type\":\"scattergl\"}],\"scattermapbox\":[{\"marker\":{\"colorbar\":{\"outlinewidth\":0,\"ticks\":\"\"}},\"type\":\"scattermapbox\"}],\"scatterpolar\":[{\"marker\":{\"colorbar\":{\"outlinewidth\":0,\"ticks\":\"\"}},\"type\":\"scatterpolar\"}],\"scatterpolargl\":[{\"marker\":{\"colorbar\":{\"outlinewidth\":0,\"ticks\":\"\"}},\"type\":\"scatterpolargl\"}],\"scatterternary\":[{\"marker\":{\"colorbar\":{\"outlinewidth\":0,\"ticks\":\"\"}},\"type\":\"scatterternary\"}],\"surface\":[{\"colorbar\":{\"outlinewidth\":0,\"ticks\":\"\"},\"colorscale\":[[0.0,\"#0d0887\"],[0.1111111111111111,\"#46039f\"],[0.2222222222222222,\"#7201a8\"],[0.3333333333333333,\"#9c179e\"],[0.4444444444444444,\"#bd3786\"],[0.5555555555555556,\"#d8576b\"],[0.6666666666666666,\"#ed7953\"],[0.7777777777777778,\"#fb9f3a\"],[0.8888888888888888,\"#fdca26\"],[1.0,\"#f0f921\"]],\"type\":\"surface\"}],\"table\":[{\"cells\":{\"fill\":{\"color\":\"#EBF0F8\"},\"line\":{\"color\":\"white\"}},\"header\":{\"fill\":{\"color\":\"#C8D4E3\"},\"line\":{\"color\":\"white\"}},\"type\":\"table\"}]},\"layout\":{\"annotationdefaults\":{\"arrowcolor\":\"#2a3f5f\",\"arrowhead\":0,\"arrowwidth\":1},\"autotypenumbers\":\"strict\",\"coloraxis\":{\"colorbar\":{\"outlinewidth\":0,\"ticks\":\"\"}},\"colorscale\":{\"diverging\":[[0,\"#8e0152\"],[0.1,\"#c51b7d\"],[0.2,\"#de77ae\"],[0.3,\"#f1b6da\"],[0.4,\"#fde0ef\"],[0.5,\"#f7f7f7\"],[0.6,\"#e6f5d0\"],[0.7,\"#b8e186\"],[0.8,\"#7fbc41\"],[0.9,\"#4d9221\"],[1,\"#276419\"]],\"sequential\":[[0.0,\"#0d0887\"],[0.1111111111111111,\"#46039f\"],[0.2222222222222222,\"#7201a8\"],[0.3333333333333333,\"#9c179e\"],[0.4444444444444444,\"#bd3786\"],[0.5555555555555556,\"#d8576b\"],[0.6666666666666666,\"#ed7953\"],[0.7777777777777778,\"#fb9f3a\"],[0.8888888888888888,\"#fdca26\"],[1.0,\"#f0f921\"]],\"sequentialminus\":[[0.0,\"#0d0887\"],[0.1111111111111111,\"#46039f\"],[0.2222222222222222,\"#7201a8\"],[0.3333333333333333,\"#9c179e\"],[0.4444444444444444,\"#bd3786\"],[0.5555555555555556,\"#d8576b\"],[0.6666666666666666,\"#ed7953\"],[0.7777777777777778,\"#fb9f3a\"],[0.8888888888888888,\"#fdca26\"],[1.0,\"#f0f921\"]]},\"colorway\":[\"#636efa\",\"#EF553B\",\"#00cc96\",\"#ab63fa\",\"#FFA15A\",\"#19d3f3\",\"#FF6692\",\"#B6E880\",\"#FF97FF\",\"#FECB52\"],\"font\":{\"color\":\"#2a3f5f\"},\"geo\":{\"bgcolor\":\"white\",\"lakecolor\":\"white\",\"landcolor\":\"#E5ECF6\",\"showlakes\":true,\"showland\":true,\"subunitcolor\":\"white\"},\"hoverlabel\":{\"align\":\"left\"},\"hovermode\":\"closest\",\"mapbox\":{\"style\":\"light\"},\"paper_bgcolor\":\"white\",\"plot_bgcolor\":\"#E5ECF6\",\"polar\":{\"angularaxis\":{\"gridcolor\":\"white\",\"linecolor\":\"white\",\"ticks\":\"\"},\"bgcolor\":\"#E5ECF6\",\"radialaxis\":{\"gridcolor\":\"white\",\"linecolor\":\"white\",\"ticks\":\"\"}},\"scene\":{\"xaxis\":{\"backgroundcolor\":\"#E5ECF6\",\"gridcolor\":\"white\",\"gridwidth\":2,\"linecolor\":\"white\",\"showbackground\":true,\"ticks\":\"\",\"zerolinecolor\":\"white\"},\"yaxis\":{\"backgroundcolor\":\"#E5ECF6\",\"gridcolor\":\"white\",\"gridwidth\":2,\"linecolor\":\"white\",\"showbackground\":true,\"ticks\":\"\",\"zerolinecolor\":\"white\"},\"zaxis\":{\"backgroundcolor\":\"#E5ECF6\",\"gridcolor\":\"white\",\"gridwidth\":2,\"linecolor\":\"white\",\"showbackground\":true,\"ticks\":\"\",\"zerolinecolor\":\"white\"}},\"shapedefaults\":{\"line\":{\"color\":\"#2a3f5f\"}},\"ternary\":{\"aaxis\":{\"gridcolor\":\"white\",\"linecolor\":\"white\",\"ticks\":\"\"},\"baxis\":{\"gridcolor\":\"white\",\"linecolor\":\"white\",\"ticks\":\"\"},\"bgcolor\":\"#E5ECF6\",\"caxis\":{\"gridcolor\":\"white\",\"linecolor\":\"white\",\"ticks\":\"\"}},\"title\":{\"x\":0.05},\"xaxis\":{\"automargin\":true,\"gridcolor\":\"white\",\"linecolor\":\"white\",\"ticks\":\"\",\"title\":{\"standoff\":15},\"zerolinecolor\":\"white\",\"zerolinewidth\":2},\"yaxis\":{\"automargin\":true,\"gridcolor\":\"white\",\"linecolor\":\"white\",\"ticks\":\"\",\"title\":{\"standoff\":15},\"zerolinecolor\":\"white\",\"zerolinewidth\":2}}}},                        {\"responsive\": true}                    ).then(function(){\n",
       "                            \n",
       "var gd = document.getElementById('e4e1d1a9-571c-4002-b46e-003acbedce68');\n",
       "var x = new MutationObserver(function (mutations, observer) {{\n",
       "        var display = window.getComputedStyle(gd).display;\n",
       "        if (!display || display === 'none') {{\n",
       "            console.log([gd, 'removed!']);\n",
       "            Plotly.purge(gd);\n",
       "            observer.disconnect();\n",
       "        }}\n",
       "}});\n",
       "\n",
       "// Listen for the removal of the full notebook cells\n",
       "var notebookContainer = gd.closest('#notebook-container');\n",
       "if (notebookContainer) {{\n",
       "    x.observe(notebookContainer, {childList: true});\n",
       "}}\n",
       "\n",
       "// Listen for the clearing of the current output cell\n",
       "var outputEl = gd.closest('.output');\n",
       "if (outputEl) {{\n",
       "    x.observe(outputEl, {childList: true});\n",
       "}}\n",
       "\n",
       "                        })                };                });            </script>        </div>"
      ]
     },
     "metadata": {},
     "output_type": "display_data"
    },
    {
     "data": {
      "text/html": []
     },
     "metadata": {},
     "output_type": "display_data"
    }
   ],
   "source": [
    "check = ImageDatasetDrift()\n",
    "check.run(train_dataset=drifted_train_ds, test_dataset=test_ds)"
   ]
  }
 ],
 "metadata": {
  "kernelspec": {
   "display_name": "Python 3 (ipykernel)",
   "language": "python",
   "name": "python3"
  },
  "language_info": {
   "codemirror_mode": {
    "name": "ipython",
    "version": 3
   },
   "file_extension": ".py",
   "mimetype": "text/x-python",
   "name": "python",
   "nbconvert_exporter": "python",
   "pygments_lexer": "ipython3",
   "version": "3.9.0"
  }
 },
 "nbformat": 4,
 "nbformat_minor": 5
}
