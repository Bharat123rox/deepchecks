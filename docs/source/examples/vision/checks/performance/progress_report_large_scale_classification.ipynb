{
 "cells": [
  {
   "cell_type": "code",
   "execution_count": null,
   "metadata": {
    "collapsed": true
   },
   "outputs": [],
   "source": [
    "# library imports"
   ]
  },
  {
   "cell_type": "code",
   "execution_count": null,
   "outputs": [],
   "source": [
    "# local imports\n",
    "from deepchecks.vision.base import VisionDataset\n",
    "from deepchecks.vision.checks.performance.robustness_report import RobustnessReport\n",
    "from deepchecks.vision.datasets.classification.imagenet import get_trained_imagenet_model, \\\n",
    "    get_imagenet_dataloaders_albumentations"
   ],
   "metadata": {
    "collapsed": false,
    "pycharm": {
     "name": "#%%\n"
    }
   }
  },
  {
   "cell_type": "code",
   "execution_count": null,
   "outputs": [],
   "source": [
    "# this loads the actual names for imagenet classes\n",
    "# TODO this can be a bit less ugly or contained in dir structure\n",
    "synsets = \"/Users/nirbenzvi/code/DeepChecks/ImageNet/synsets.txt\"\n",
    "with open(synsets, 'r') as fid:\n",
    "    real_class_names = {l.split()[0]: \" \".join(l.split()[1:]).split(\",\")[0].strip() for l in fid}"
   ],
   "metadata": {
    "collapsed": false,
    "pycharm": {
     "name": "#%%\n"
    }
   }
  },
  {
   "cell_type": "code",
   "execution_count": null,
   "outputs": [],
   "source": [
    "# load dataloaders and model\n",
    "model = get_trained_imagenet_model()\n",
    "_, val_dataloader = get_imagenet_dataloaders_albumentations()\n",
    "_, augmented_dataloader = get_imagenet_dataloaders_albumentations()\n",
    "\n",
    "class_names = val_dataloader.dataset.classes\n",
    "# this maps real classes on top of imagenet's synset format\n",
    "class_names = [real_class_names[c] for c in class_names]\n",
    "\n",
    "# Create DeepCheck dataloaders\n",
    "baseline_ds = VisionDataset(val_dataloader)\n",
    "aug_ds = VisionDataset(augmented_dataloader)"
   ],
   "metadata": {
    "collapsed": false,
    "pycharm": {
     "name": "#%%\n"
    }
   }
  },
  {
   "cell_type": "code",
   "execution_count": null,
   "outputs": [],
   "source": [
    "# Run Check\n",
    "# The magic now happens inside check.run()\n",
    "check = RobustnessReport()  # label_map=class_names\n",
    "result = check.run(baseline_dataset=baseline_ds, augmented_dataset=aug_ds, model=model)"
   ],
   "metadata": {
    "collapsed": false,
    "pycharm": {
     "name": "#%%\n"
    }
   }
  },
  {
   "cell_type": "code",
   "execution_count": null,
   "outputs": [],
   "source": [
    "# Plot bad classes/augmentations (#TODO)"
   ],
   "metadata": {
    "collapsed": false,
    "pycharm": {
     "name": "#%%\n"
    }
   }
  }
 ],
 "metadata": {
  "kernelspec": {
   "display_name": "Python 3",
   "language": "python",
   "name": "python3"
  },
  "language_info": {
   "codemirror_mode": {
    "name": "ipython",
    "version": 2
   },
   "file_extension": ".py",
   "mimetype": "text/x-python",
   "name": "python",
   "nbconvert_exporter": "python",
   "pygments_lexer": "ipython2",
   "version": "2.7.6"
  }
 },
 "nbformat": 4,
 "nbformat_minor": 0
}